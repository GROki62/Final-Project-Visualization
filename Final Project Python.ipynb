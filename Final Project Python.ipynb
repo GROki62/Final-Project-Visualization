{
 "cells": [
  {
   "cell_type": "code",
   "execution_count": 1,
   "id": "363a7975",
   "metadata": {},
   "outputs": [],
   "source": [
    "import pandas as pd\n",
    "import matplotlib.pyplot as plt\n",
    "import seaborn as sns\n",
    "import numpy as np\n",
    "sns.set()"
   ]
  },
  {
   "cell_type": "code",
   "execution_count": 2,
   "id": "f774164e",
   "metadata": {},
   "outputs": [
    {
     "name": "stderr",
     "output_type": "stream",
     "text": [
      "C:\\Users\\glr62\\AppData\\Local\\Temp\\ipykernel_27720\\916077102.py:2: DtypeWarning: Columns (7) have mixed types. Specify dtype option on import or set low_memory=False.\n",
      "  df = pd.read_csv(file)\n"
     ]
    },
    {
     "name": "stdout",
     "output_type": "stream",
     "text": [
      "       RandomID agency   Q1   Q2   Q3   Q4 Q5 Q6 Q7 Q8  ...  DDIS DAGEGRP  \\\n",
      "0  1.129710e+11     XX  5.0  5.0  5.0  5.0  5  4  5  4  ...   NaN       A   \n",
      "1  1.948690e+11     XX  3.0  3.0  4.0  4.0  4  4  5  4  ...     B       A   \n",
      "2  1.529660e+11     XX  1.0  1.0  1.0  3.0  1  1  3  1  ...     B       B   \n",
      "3  1.930410e+11     XX  4.0  3.0  4.0  4.0  2  3  3  3  ...     A       B   \n",
      "4  1.466560e+11     XX  4.0  4.0  4.0  4.0  3  4  5  5  ...     B       B   \n",
      "\n",
      "  DSUPER DFEDTEN DSEX DMIL DLEAVINGA DLEAVINGB  DLEAVINGC    POSTWT  \n",
      "0      B       A    A    A         A         A        NaN  1.866270  \n",
      "1      B       B    A    B         A         A        NaN  1.866270  \n",
      "2      A       C    A    B         B         B        NaN  1.519342  \n",
      "3      B       C    A    A         A         A        NaN  2.064296  \n",
      "4      B       C    A    A         A         A        NaN  2.002741  \n",
      "\n",
      "[5 rows x 134 columns]\n"
     ]
    }
   ],
   "source": [
    "file = 'FEVS_2020_PRDF.csv'\n",
    "df = pd.read_csv(file)\n",
    "df['Q26'].replace('X', np.nan, inplace = True)\n",
    "df['Q27'].replace('X', np.nan, inplace = True)\n",
    "df['Q31'].replace('X', np.nan, inplace = True)\n",
    "df['Q32'].replace('X', np.nan, inplace = True)\n",
    "df['Q28'].replace('X', np.nan, inplace = True)\n",
    "df['Q29'].replace('X', np.nan, inplace = True)\n",
    "df['Q30'].replace('X', np.nan, inplace = True)\n",
    "df['Q35'].replace('X', np.nan, inplace = True)\n",
    "print(df.head())"
   ]
  },
  {
   "cell_type": "code",
   "execution_count": 3,
   "id": "210d1abb",
   "metadata": {},
   "outputs": [
    {
     "name": "stdout",
     "output_type": "stream",
     "text": [
      "       RandomID agency Q26 Q27 Q28 Q29 Q30 Q31  Q32  Q35\n",
      "0  1.129710e+11     XX   4   4   4   4   5   4    4  5.0\n",
      "1  1.948690e+11     XX   4   4   4   3   4   5    4  2.0\n",
      "2  1.529660e+11     XX   1   1   1   1   1   1    1  1.0\n",
      "3  1.930410e+11     XX   2   2   3   3   2   2  NaN  2.0\n",
      "4  1.466560e+11     XX   3   4   4   4   3   4    3  4.0\n"
     ]
    }
   ],
   "source": [
    "df = df[['RandomID', 'agency', 'Q26', 'Q27', 'Q28', 'Q29', 'Q30', 'Q31', 'Q32', 'Q35']]\n",
    "print(df.head())"
   ]
  },
  {
   "cell_type": "code",
   "execution_count": null,
   "id": "c3c0c629",
   "metadata": {},
   "outputs": [],
   "source": [
    "df['Q26'].unique() \n",
    "df['Q26'] = pd.to_numeric(df['Q26'], errors = 'coerce') #this is a good choice if you have just a few nonumeric values in a numeric column"
   ]
  },
  {
   "cell_type": "code",
   "execution_count": null,
   "id": "f2cde89e",
   "metadata": {},
   "outputs": [],
   "source": [
    "motivation_mean = df.groupby('agency')[['Q26']].mean()\n",
    "print(motivation_mean)"
   ]
  },
  {
   "cell_type": "code",
   "execution_count": null,
   "id": "3d3413c6",
   "metadata": {},
   "outputs": [],
   "source": [
    "df['Q27'].unique() \n",
    "df['Q27'] = pd.to_numeric(df['Q27'], errors = 'coerce')"
   ]
  },
  {
   "cell_type": "code",
   "execution_count": null,
   "id": "01883436",
   "metadata": {},
   "outputs": [],
   "source": [
    "integrity_mean = df.groupby('agency')[['Q27']].mean()\n",
    "print(integrity_mean)"
   ]
  },
  {
   "cell_type": "code",
   "execution_count": null,
   "id": "48221268",
   "metadata": {},
   "outputs": [],
   "source": [
    "df['Q31'].unique() \n",
    "df['Q31'] = pd.to_numeric(df['Q31'], errors = 'coerce')"
   ]
  },
  {
   "cell_type": "code",
   "execution_count": null,
   "id": "75e494ba",
   "metadata": {},
   "outputs": [],
   "source": [
    "respect_mean = df.groupby('agency')[['Q31']].mean()\n",
    "print(respect_mean)"
   ]
  },
  {
   "cell_type": "code",
   "execution_count": null,
   "id": "f9e79593",
   "metadata": {},
   "outputs": [],
   "source": [
    "df['Q32'].unique() \n",
    "df['Q32'] = pd.to_numeric(df['Q32'], errors = 'coerce')"
   ]
  },
  {
   "cell_type": "code",
   "execution_count": null,
   "id": "528a9006",
   "metadata": {},
   "outputs": [],
   "source": [
    "worklife_mean = df.groupby('agency')[['Q32']].mean()\n",
    "print(worklife_mean)"
   ]
  },
  {
   "cell_type": "code",
   "execution_count": null,
   "id": "1e057958",
   "metadata": {},
   "outputs": [],
   "source": [
    "df['Q28'].unique() \n",
    "df['Q28'] = pd.to_numeric(df['Q28'], errors = 'coerce')"
   ]
  },
  {
   "cell_type": "code",
   "execution_count": null,
   "id": "a9f27eb1",
   "metadata": {},
   "outputs": [],
   "source": [
    "df['Q29'].unique() \n",
    "df['Q29'] = pd.to_numeric(df['Q29'], errors = 'coerce')"
   ]
  },
  {
   "cell_type": "code",
   "execution_count": null,
   "id": "96412e1b",
   "metadata": {},
   "outputs": [],
   "source": [
    "df['Q30'].unique() \n",
    "df['Q30'] = pd.to_numeric(df['Q30'], errors = 'coerce')"
   ]
  },
  {
   "cell_type": "code",
   "execution_count": 5,
   "id": "4e00a3b6",
   "metadata": {},
   "outputs": [
    {
     "name": "stderr",
     "output_type": "stream",
     "text": [
      "C:\\Users\\glr62\\AppData\\Local\\Temp\\ipykernel_27720\\2221114166.py:2: SettingWithCopyWarning: \n",
      "A value is trying to be set on a copy of a slice from a DataFrame.\n",
      "Try using .loc[row_indexer,col_indexer] = value instead\n",
      "\n",
      "See the caveats in the documentation: https://pandas.pydata.org/pandas-docs/stable/user_guide/indexing.html#returning-a-view-versus-a-copy\n",
      "  df['Q35'] = pd.to_numeric(df['Q35'], errors = 'coerce')\n"
     ]
    }
   ],
   "source": [
    "df['Q35'].unique() \n",
    "df['Q35'] = pd.to_numeric(df['Q35'], errors = 'coerce')"
   ]
  },
  {
   "cell_type": "code",
   "execution_count": null,
   "id": "487d740a",
   "metadata": {},
   "outputs": [],
   "source": [
    "management_goals_mean = df.groupby('agency')[['Q28']].mean()\n",
    "print(worklife_mean)"
   ]
  },
  {
   "cell_type": "code",
   "execution_count": null,
   "id": "b8b39ea3",
   "metadata": {},
   "outputs": [],
   "source": [
    "management_communication_mean = df.groupby('agency')[['Q29']].mean()\n",
    "print(worklife_mean)"
   ]
  },
  {
   "cell_type": "code",
   "execution_count": null,
   "id": "84c7c03e",
   "metadata": {},
   "outputs": [],
   "source": [
    "management_goodjob_mean = df.groupby('agency')[['Q30']].mean()\n",
    "print(worklife_mean)"
   ]
  },
  {
   "cell_type": "code",
   "execution_count": 6,
   "id": "17c05ba6",
   "metadata": {},
   "outputs": [
    {
     "name": "stdout",
     "output_type": "stream",
     "text": [
      "             Q35\n",
      "agency          \n",
      "AF      3.565545\n",
      "AG      3.388906\n",
      "AM      3.511639\n",
      "AR      3.550967\n",
      "CM      3.633814\n",
      "CU      3.518519\n",
      "DD      3.634851\n",
      "DJ      3.589010\n",
      "DL      3.602862\n",
      "DN      3.740951\n",
      "DR      4.123023\n",
      "ED      3.469475\n",
      "EE      3.764114\n",
      "EP      3.749092\n",
      "GS      3.914286\n",
      "HE      3.714582\n",
      "HS      3.323544\n",
      "HU      3.745561\n",
      "IN      3.571312\n",
      "NF      4.004376\n",
      "NL      3.540470\n",
      "NN      4.083811\n",
      "NQ      3.728328\n",
      "NU      3.750582\n",
      "NV      3.599576\n",
      "OM      3.690729\n",
      "SB      3.623664\n",
      "ST      3.512772\n",
      "SZ      3.365689\n",
      "TD      3.718027\n",
      "TR      3.663613\n",
      "XX      3.706789\n"
     ]
    }
   ],
   "source": [
    "management_recognition_mean = df.groupby('agency')[['Q35']].mean()\n",
    "print(management_recognition_mean)"
   ]
  },
  {
   "cell_type": "code",
   "execution_count": 20,
   "id": "2e2f5f9a",
   "metadata": {},
   "outputs": [
    {
     "data": {
      "text/plain": [
       "<AxesSubplot:title={'center':'Average Employee Satisfaction with Recognition for Work they do by Federal Government Organization'}, ylabel='Agency in Federal Gov'>"
      ]
     },
     "execution_count": 20,
     "metadata": {},
     "output_type": "execute_result"
    },
    {
     "data": {
      "image/png": "[encoded data removed]",
      "text/plain": [
       "<Figure size 576x576 with 1 Axes>"
      ]
     },
     "metadata": {},
     "output_type": "display_data"
    }
   ],
   "source": [
    "#note, figure out how to extend graph to 5, figure out how to sort stuff\n",
    "\n",
    "management_goals_mean.plot(figsize=(8, 8), kind = 'barh', title = 'Average Employee Satisfaction with Recognition for Work they do by Federal Government Organization', ylabel = 'Organization', xlabel = 'Agency in Federal Gov')"
   ]
  },
  {
   "cell_type": "code",
   "execution_count": null,
   "id": "95c45673",
   "metadata": {},
   "outputs": [],
   "source": [
    "management_recognition_mean.plot(figsize=(8, 8), kind = 'barh', title = 'Average Employee Satisfaction with Recognition for Work they do by Federal Government Organization', ylabel = 'Organization', xlabel = 'Agency in Federal Gov')"
   ]
  }
 ],
 "metadata": {
  "kernelspec": {
   "display_name": "Python 3 (ipykernel)",
   "language": "python",
   "name": "python3"
  },
  "language_info": {
   "codemirror_mode": {
    "name": "ipython",
    "version": 3
   },
   "file_extension": ".py",
   "mimetype": "text/x-python",
   "name": "python",
   "nbconvert_exporter": "python",
   "pygments_lexer": "ipython3",
   "version": "3.9.12"
  }
 },
 "nbformat": 4,
 "nbformat_minor": 5
}
